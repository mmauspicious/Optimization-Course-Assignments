{
 "cells": [
  {
   "cell_type": "code",
   "execution_count": 1,
   "id": "f4c57389",
   "metadata": {},
   "outputs": [],
   "source": [
    "import numpy as np\n",
    "from scipy.optimize import dual_annealing"
   ]
  },
  {
   "cell_type": "code",
   "execution_count": 2,
   "id": "661c664d",
   "metadata": {},
   "outputs": [],
   "source": [
    "# x(0)=d\n",
    "# x(1)=D\n",
    "# x(2)=N"
   ]
  },
  {
   "cell_type": "code",
   "execution_count": 3,
   "id": "302c3267",
   "metadata": {},
   "outputs": [],
   "source": [
    "# data\n",
    "g = 9.81 * 10 ** 3\n",
    "gama = 77500 * 10 ** (-9)\n",
    "G = 79.3 * 10 ** 3\n",
    "taw_a = 550\n",
    "F = 80\n",
    "Delta = 13\n",
    "w0 = 100\n",
    "D0 = 42\n",
    "r_k = 0.0001\n",
    "x_0 = [1.5, 10, 10]"
   ]
  },
  {
   "cell_type": "code",
   "execution_count": 4,
   "id": "9f045f20",
   "metadata": {},
   "outputs": [],
   "source": [
    "# additive function to problem's function to satisfy constraints\n",
    "def cons(x):\n",
    "    # equations\n",
    "    C = x[1] / x[0]\n",
    "    K_B = (4 * C + 2) / (4 * C - 3)\n",
    "    taw = K_B * 8 * F * x[1] / (np.pi * x[0] ** 3)\n",
    "    k = x[0] ** 4 * G / (8 * x[1] ** 3 * x[2])\n",
    "    W = np.pi ** 2 * x[0] ** 2 * x[1] * x[2] * gama / 4\n",
    "    f = np.sqrt(k * g / W) / 2\n",
    "    delta = F / k\n",
    "    ge = max((Delta - delta), 0) + max((w0 - f), 0) + max((taw - taw_a), 0) + max((x[0] + x[1] - D0), 0)\n",
    "    return ge"
   ]
  },
  {
   "cell_type": "code",
   "execution_count": 5,
   "id": "ca695bc5",
   "metadata": {},
   "outputs": [],
   "source": [
    "# mass function and compeletng the algorithm of stisfying constraints\n",
    "def mass(x):\n",
    "    global r_k\n",
    "    W = np.pi ** 2 * x[0] ** 2 * x[1] * x[2] * gama / 4\n",
    "    r_k = 10 * r_k;\n",
    "    return W / 9.81 + r_k * cons(x)"
   ]
  },
  {
   "cell_type": "code",
   "execution_count": 6,
   "id": "aa253238",
   "metadata": {},
   "outputs": [
    {
     "name": "stderr",
     "output_type": "stream",
     "text": [
      "F:\\Users\\Auspicious\\anaconda3\\lib\\site-packages\\scipy\\optimize\\_numdiff.py:598: RuntimeWarning: overflow encountered in divide\n",
      "  J_transposed[i] = df / dx\n",
      "F:\\Users\\Auspicious\\anaconda3\\lib\\site-packages\\scipy\\optimize\\_dual_annealing.py:267: RuntimeWarning: overflow encountered in double_scalars\n",
      "  pqv_temp = 1.0 - ((1.0 - self.acceptance_param) *\n",
      "C:\\Users\\Auspicious\\AppData\\Local\\Temp\\ipykernel_12940\\3857302247.py:6: RuntimeWarning: overflow encountered in double_scalars\n",
      "  return W / 9.81 + r_k * cons(x)\n"
     ]
    },
    {
     "data": {
      "text/plain": [
       " message: ['Maximum number of iteration reached']\n",
       " success: True\n",
       "  status: 0\n",
       "     fun: 0.014076483474719613\n",
       "       x: [ 2.441e+00  2.383e+01  5.087e+00]\n",
       "     nit: 1000\n",
       "    nfev: 6081\n",
       "    njev: 20\n",
       "    nhev: 0"
      ]
     },
     "execution_count": 6,
     "metadata": {},
     "output_type": "execute_result"
    }
   ],
   "source": [
    "# smiulated annealing\n",
    "bounds = [[1.5, 6.5], [10, 40], [5, 15]]\n",
    "dual_annealing(mass, bounds, args=(), maxiter=1000, initial_temp=50, restart_temp_ratio=2e-05,\n",
    "               visit=2.62, accept=- 5.0, maxfun=10000000.0, seed=None, no_local_search=False, callback=None, x0=x_0)"
   ]
  },
  {
   "cell_type": "code",
   "execution_count": null,
   "id": "26518a42",
   "metadata": {},
   "outputs": [],
   "source": []
  },
  {
   "cell_type": "code",
   "execution_count": null,
   "id": "226db371",
   "metadata": {},
   "outputs": [],
   "source": []
  }
 ],
 "metadata": {
  "kernelspec": {
   "display_name": "Python 3 (ipykernel)",
   "language": "python",
   "name": "python3"
  },
  "language_info": {
   "codemirror_mode": {
    "name": "ipython",
    "version": 3
   },
   "file_extension": ".py",
   "mimetype": "text/x-python",
   "name": "python",
   "nbconvert_exporter": "python",
   "pygments_lexer": "ipython3",
   "version": "3.10.9"
  }
 },
 "nbformat": 4,
 "nbformat_minor": 5
}
